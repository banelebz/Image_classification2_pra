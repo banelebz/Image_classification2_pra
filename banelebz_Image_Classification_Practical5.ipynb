{
  "nbformat": 4,
  "nbformat_minor": 0,
  "metadata": {
    "colab": {
      "name": "banelebz_Image_Classification_Practical5.ipynb",
      "provenance": [],
      "collapsed_sections": []
    },
    "kernelspec": {
      "name": "python3",
      "display_name": "Python 3"
    },
    "accelerator": "GPU"
  },
  "cells": [
    {
      "cell_type": "markdown",
      "metadata": {
        "id": "Zs3Vxo5dmP7j"
      },
      "source": [
        "## Image classification Practical\n",
        "\n",
        "\n",
        "Question 1: how many classes are in cifar-10? \n",
        "\n",
        "Answer:\n",
        "\n",
        "They are 10 classes\n",
        "\n",
        "Question 2: is this a colour or greyscale image dataset?\n",
        "\n",
        "Answer:\n",
        "\n",
        "This is a colour dataset\n",
        "\n",
        "Question 3: how many channels/depth should the images have?\n",
        "\n",
        "Answer:\n",
        "\n",
        "They should be 3 channels/depth\n",
        "\n",
        "Question 4: is this a regression or classification problem?\n",
        "\n",
        "Answer:\n",
        "\n",
        "This is a classification problem\n",
        "\n",
        "Question 5: if we one-hot encode the targets for this dataset, what will the dimensions of the resulting vector be?\n",
        "\n",
        "Answer\n",
        "\n",
        "The dimension is 60000 by 10\n",
        "\n",
        "Question 6: which activation function will you most likely use in the last layer of your model for this problem?\n",
        "\n",
        "Answer:\n",
        "\n",
        "softmax"
      ]
    },
    {
      "cell_type": "code",
      "metadata": {
        "id": "nvCXvXq5mP7p"
      },
      "source": [
        "from keras.datasets import cifar10\n",
        "from tensorflow.keras.models import Sequential\n",
        "from tensorflow.keras.layers import Dense, Conv2D, MaxPool2D, Flatten, Dropout\n",
        "from tensorflow.keras.losses import CategoricalCrossentropy\n",
        "from tensorflow.keras.optimizers import SGD\n",
        "from tensorflow.keras.datasets import fashion_mnist\n",
        "from tensorflow.keras.callbacks import ModelCheckpoint\n",
        "import numpy as np\n",
        "np.random.seed(13)\n",
        "import matplotlib.pyplot as plt\n",
        "from keras.utils import np_utils\n",
        "from sklearn.metrics import accuracy_score, confusion_matrix\n",
        "from tensorflow.keras.utils import to_categorical\n",
        "from sklearn.preprocessing import LabelEncoder\n",
        "from sklearn.model_selection import train_test_split\n",
        "import pandas as pd\n",
        "import tensorflow as tf\n",
        "from tensorflow.keras import metrics\n",
        "%matplotlib inline"
      ],
      "execution_count": null,
      "outputs": []
    },
    {
      "cell_type": "markdown",
      "metadata": {
        "id": "X1GTR35cmP7v"
      },
      "source": [
        "## Load the dataset"
      ]
    },
    {
      "cell_type": "code",
      "metadata": {
        "id": "uQ_KjFJomP7x",
        "colab": {
          "base_uri": "https://localhost:8080/"
        },
        "outputId": "3f30fb33-1286-4d67-b209-a5c254af02c5"
      },
      "source": [
        "(X_train, Y_train), (X_test, Y_test) = cifar10.load_data()\n"
      ],
      "execution_count": null,
      "outputs": [
        {
          "output_type": "stream",
          "name": "stdout",
          "text": [
            "Downloading data from https://www.cs.toronto.edu/~kriz/cifar-10-python.tar.gz\n",
            "170500096/170498071 [==============================] - 2s 0us/step\n",
            "170508288/170498071 [==============================] - 2s 0us/step\n"
          ]
        }
      ]
    },
    {
      "cell_type": "markdown",
      "source": [
        "## View the shape"
      ],
      "metadata": {
        "id": "80TLadJdUljI"
      }
    },
    {
      "cell_type": "code",
      "source": [
        "print('Training data shape : ', X_train.shape, Y_train.shape)"
      ],
      "metadata": {
        "colab": {
          "base_uri": "https://localhost:8080/"
        },
        "id": "KFwuYVtmUmXd",
        "outputId": "67ab745a-053b-4f30-a530-622e075f5a9a"
      },
      "execution_count": null,
      "outputs": [
        {
          "output_type": "stream",
          "name": "stdout",
          "text": [
            "Training data shape :  (50000, 32, 32, 3) (50000, 1)\n"
          ]
        }
      ]
    },
    {
      "cell_type": "code",
      "source": [
        "print('Testing data shape : ', X_test.shape, Y_test.shape)"
      ],
      "metadata": {
        "colab": {
          "base_uri": "https://localhost:8080/"
        },
        "id": "069WdRN7Ur9p",
        "outputId": "bd7aa7c1-0b2c-4d42-ed9f-84fcb86011f2"
      },
      "execution_count": null,
      "outputs": [
        {
          "output_type": "stream",
          "name": "stdout",
          "text": [
            "Testing data shape :  (10000, 32, 32, 3) (10000, 1)\n"
          ]
        }
      ]
    },
    {
      "cell_type": "markdown",
      "source": [
        "## Find the unique numbers from the train labels"
      ],
      "metadata": {
        "id": "VLom3lXBVogY"
      }
    },
    {
      "cell_type": "code",
      "source": [
        "classes = np.unique(Y_train)\n",
        "nClasses = len(classes)\n",
        "print('Total number of outputs : ', nClasses)\n",
        "print('Output classes : ', classes)"
      ],
      "metadata": {
        "colab": {
          "base_uri": "https://localhost:8080/"
        },
        "id": "fmeCPOdpVxLA",
        "outputId": "a4a460d6-6cf5-4082-fa2b-c0cef1255353"
      },
      "execution_count": null,
      "outputs": [
        {
          "output_type": "stream",
          "name": "stdout",
          "text": [
            "Total number of outputs :  10\n",
            "Output classes :  [0 1 2 3 4 5 6 7 8 9]\n"
          ]
        }
      ]
    },
    {
      "cell_type": "markdown",
      "source": [
        "## Plot some of the data"
      ],
      "metadata": {
        "id": "Ge5AK_JIWLRM"
      }
    },
    {
      "cell_type": "code",
      "source": [
        "data_point = 130\n",
        "\n",
        "plt.figure(figsize=[10,5])\n",
        " \n",
        "# Display the first image in training data\n",
        "plt.subplot(121)\n",
        "plt.imshow(X_train[data_point,:,:], cmap='gray')\n",
        "plt.title(\"Ground Truth : {}\".format(Y_train[data_point]))\n",
        " \n",
        "# Display the first image in testing data\n",
        "plt.subplot(122)\n",
        "plt.imshow(X_test[data_point,:,:], cmap='gray')\n",
        "plt.title(\"Ground Truth : {}\".format(Y_test[data_point]))"
      ],
      "metadata": {
        "colab": {
          "base_uri": "https://localhost:8080/",
          "height": 335
        },
        "id": "8Vi5WtrhWM0X",
        "outputId": "22675590-284a-41dd-c591-2487dc611827"
      },
      "execution_count": null,
      "outputs": [
        {
          "output_type": "execute_result",
          "data": {
            "text/plain": [
              "Text(0.5, 1.0, 'Ground Truth : [4]')"
            ]
          },
          "metadata": {},
          "execution_count": 6
        },
        {
          "output_type": "display_data",
          "data": {
            "image/png": "[encoded data removed]",
            "text/plain": [
              "<Figure size 720x360 with 2 Axes>"
            ]
          },
          "metadata": {
            "needs_background": "light"
          }
        }
      ]
    },
    {
      "cell_type": "markdown",
      "source": [
        "## Reshape needed"
      ],
      "metadata": {
        "id": "7SjBiMe9Xej7"
      }
    },
    {
      "cell_type": "code",
      "source": [
        "X_train.shape"
      ],
      "metadata": {
        "colab": {
          "base_uri": "https://localhost:8080/"
        },
        "id": "dWoOSEn2XcMU",
        "outputId": "739edfa8-ad3e-45fe-b530-25bfb2e658b9"
      },
      "execution_count": null,
      "outputs": [
        {
          "output_type": "execute_result",
          "data": {
            "text/plain": [
              "(50000, 32, 32, 3)"
            ]
          },
          "metadata": {},
          "execution_count": 7
        }
      ]
    },
    {
      "cell_type": "code",
      "source": [
        "X_train.shape[0]"
      ],
      "metadata": {
        "colab": {
          "base_uri": "https://localhost:8080/"
        },
        "id": "Xu7pE0iTXrhb",
        "outputId": "05b0507a-2cb1-4941-efe1-f0037091ba87"
      },
      "execution_count": null,
      "outputs": [
        {
          "output_type": "execute_result",
          "data": {
            "text/plain": [
              "50000"
            ]
          },
          "metadata": {},
          "execution_count": 8
        }
      ]
    },
    {
      "cell_type": "code",
      "source": [
        "X_train.shape[1]"
      ],
      "metadata": {
        "colab": {
          "base_uri": "https://localhost:8080/"
        },
        "id": "HsJC0-sdXwfq",
        "outputId": "79f3fe67-a81c-41a0-9742-6124b86f5f58"
      },
      "execution_count": null,
      "outputs": [
        {
          "output_type": "execute_result",
          "data": {
            "text/plain": [
              "32"
            ]
          },
          "metadata": {},
          "execution_count": 9
        }
      ]
    },
    {
      "cell_type": "code",
      "source": [
        "X_train.shape[2]"
      ],
      "metadata": {
        "colab": {
          "base_uri": "https://localhost:8080/"
        },
        "id": "FyUPrpQbX0kX",
        "outputId": "5dcc292d-e9e0-490b-b2b9-ebdba7e513a7"
      },
      "execution_count": null,
      "outputs": [
        {
          "output_type": "execute_result",
          "data": {
            "text/plain": [
              "32"
            ]
          },
          "metadata": {},
          "execution_count": 10
        }
      ]
    },
    {
      "cell_type": "code",
      "source": [
        "X_test.shape"
      ],
      "metadata": {
        "colab": {
          "base_uri": "https://localhost:8080/"
        },
        "id": "jyWMnyotYyJn",
        "outputId": "b3fe7650-5b32-44f1-9048-5e56aff4d719"
      },
      "execution_count": null,
      "outputs": [
        {
          "output_type": "execute_result",
          "data": {
            "text/plain": [
              "(10000, 32, 32, 3)"
            ]
          },
          "metadata": {},
          "execution_count": 11
        }
      ]
    },
    {
      "cell_type": "markdown",
      "source": [
        "## View the shape"
      ],
      "metadata": {
        "id": "RJMXiThnZnVF"
      }
    },
    {
      "cell_type": "code",
      "source": [
        "print('Training data shape : ', X_train.shape, Y_train.shape)"
      ],
      "metadata": {
        "colab": {
          "base_uri": "https://localhost:8080/"
        },
        "id": "hR9n_KtrZoij",
        "outputId": "2c176bf8-8695-4c93-f397-5b7b45361ad1"
      },
      "execution_count": null,
      "outputs": [
        {
          "output_type": "stream",
          "name": "stdout",
          "text": [
            "Training data shape :  (50000, 32, 32, 3) (50000, 1)\n"
          ]
        }
      ]
    },
    {
      "cell_type": "code",
      "source": [
        "print('Testing data shape : ', X_test.shape, Y_test.shape)"
      ],
      "metadata": {
        "colab": {
          "base_uri": "https://localhost:8080/"
        },
        "id": "8DMdHxf1ZyBk",
        "outputId": "e0655966-d4f5-4de0-f7e7-672755163a86"
      },
      "execution_count": null,
      "outputs": [
        {
          "output_type": "stream",
          "name": "stdout",
          "text": [
            "Testing data shape :  (10000, 32, 32, 3) (10000, 1)\n"
          ]
        }
      ]
    },
    {
      "cell_type": "markdown",
      "source": [
        "## Take a look at a single image"
      ],
      "metadata": {
        "id": "sBoAjYVaaZRC"
      }
    },
    {
      "cell_type": "code",
      "source": [
        "X_train[0]"
      ],
      "metadata": {
        "colab": {
          "base_uri": "https://localhost:8080/"
        },
        "id": "73GqwwF2aaHw",
        "outputId": "301ee59e-7b5b-4385-d7d7-cbe6293b0c92"
      },
      "execution_count": null,
      "outputs": [
        {
          "output_type": "execute_result",
          "data": {
            "text/plain": [
              "array([[[ 59,  62,  63],\n",
              "        [ 43,  46,  45],\n",
              "        [ 50,  48,  43],\n",
              "        ...,\n",
              "        [158, 132, 108],\n",
              "        [152, 125, 102],\n",
              "        [148, 124, 103]],\n",
              "\n",
              "       [[ 16,  20,  20],\n",
              "        [  0,   0,   0],\n",
              "        [ 18,   8,   0],\n",
              "        ...,\n",
              "        [123,  88,  55],\n",
              "        [119,  83,  50],\n",
              "        [122,  87,  57]],\n",
              "\n",
              "       [[ 25,  24,  21],\n",
              "        [ 16,   7,   0],\n",
              "        [ 49,  27,   8],\n",
              "        ...,\n",
              "        [118,  84,  50],\n",
              "        [120,  84,  50],\n",
              "        [109,  73,  42]],\n",
              "\n",
              "       ...,\n",
              "\n",
              "       [[208, 170,  96],\n",
              "        [201, 153,  34],\n",
              "        [198, 161,  26],\n",
              "        ...,\n",
              "        [160, 133,  70],\n",
              "        [ 56,  31,   7],\n",
              "        [ 53,  34,  20]],\n",
              "\n",
              "       [[180, 139,  96],\n",
              "        [173, 123,  42],\n",
              "        [186, 144,  30],\n",
              "        ...,\n",
              "        [184, 148,  94],\n",
              "        [ 97,  62,  34],\n",
              "        [ 83,  53,  34]],\n",
              "\n",
              "       [[177, 144, 116],\n",
              "        [168, 129,  94],\n",
              "        [179, 142,  87],\n",
              "        ...,\n",
              "        [216, 184, 140],\n",
              "        [151, 118,  84],\n",
              "        [123,  92,  72]]], dtype=uint8)"
            ]
          },
          "metadata": {},
          "execution_count": 14
        }
      ]
    },
    {
      "cell_type": "markdown",
      "source": [
        "#Task: do all preprocessing here\n",
        "\n",
        "The data is obtained as a training and testing set. Typically, it's a good idea to create a validation set from the training set. Hint: previous pracs illustrated how to do this. Name the validation data as `X_val` and `Y_val`.\n",
        "\n",
        "All other preprocessing including normalisation, one-hot encoding etc should be added here..."
      ],
      "metadata": {
        "id": "mWfCP_d_7_1X"
      }
    },
    {
      "cell_type": "markdown",
      "source": [
        "## What is the min/max for this image?"
      ],
      "metadata": {
        "id": "CZ1YjbmbakmT"
      }
    },
    {
      "cell_type": "code",
      "source": [
        "np.max(X_train[0])"
      ],
      "metadata": {
        "colab": {
          "base_uri": "https://localhost:8080/"
        },
        "id": "ft9t4nUnalcI",
        "outputId": "c0f80e8b-0af8-4713-eba0-e4f81474db26"
      },
      "execution_count": null,
      "outputs": [
        {
          "output_type": "execute_result",
          "data": {
            "text/plain": [
              "255"
            ]
          },
          "metadata": {},
          "execution_count": 15
        }
      ]
    },
    {
      "cell_type": "code",
      "source": [
        "np.min(X_train[0])"
      ],
      "metadata": {
        "colab": {
          "base_uri": "https://localhost:8080/"
        },
        "id": "iNgLmB7ParHf",
        "outputId": "e69559c5-b318-4577-bf5c-7f563d1aeaf6"
      },
      "execution_count": null,
      "outputs": [
        {
          "output_type": "execute_result",
          "data": {
            "text/plain": [
              "0"
            ]
          },
          "metadata": {},
          "execution_count": 16
        }
      ]
    },
    {
      "cell_type": "markdown",
      "source": [
        "## Normalise\n"
      ],
      "metadata": {
        "id": "EUXK6JGza3cq"
      }
    },
    {
      "cell_type": "code",
      "source": [
        "X_train = X_train / 255\n",
        "X_test = X_test / 255"
      ],
      "metadata": {
        "id": "BXh7GJn1a4RI"
      },
      "execution_count": null,
      "outputs": []
    },
    {
      "cell_type": "markdown",
      "source": [
        "## Take a look at a single image (after normalisation)"
      ],
      "metadata": {
        "id": "OtCVAGLDbHGo"
      }
    },
    {
      "cell_type": "code",
      "source": [
        "X_train[0]"
      ],
      "metadata": {
        "colab": {
          "base_uri": "https://localhost:8080/"
        },
        "id": "64HeJqndbIKC",
        "outputId": "c3227b8c-37f2-4a7d-92af-d8c1bf54f929"
      },
      "execution_count": null,
      "outputs": [
        {
          "output_type": "execute_result",
          "data": {
            "text/plain": [
              "array([[[0.23137255, 0.24313725, 0.24705882],\n",
              "        [0.16862745, 0.18039216, 0.17647059],\n",
              "        [0.19607843, 0.18823529, 0.16862745],\n",
              "        ...,\n",
              "        [0.61960784, 0.51764706, 0.42352941],\n",
              "        [0.59607843, 0.49019608, 0.4       ],\n",
              "        [0.58039216, 0.48627451, 0.40392157]],\n",
              "\n",
              "       [[0.0627451 , 0.07843137, 0.07843137],\n",
              "        [0.        , 0.        , 0.        ],\n",
              "        [0.07058824, 0.03137255, 0.        ],\n",
              "        ...,\n",
              "        [0.48235294, 0.34509804, 0.21568627],\n",
              "        [0.46666667, 0.3254902 , 0.19607843],\n",
              "        [0.47843137, 0.34117647, 0.22352941]],\n",
              "\n",
              "       [[0.09803922, 0.09411765, 0.08235294],\n",
              "        [0.0627451 , 0.02745098, 0.        ],\n",
              "        [0.19215686, 0.10588235, 0.03137255],\n",
              "        ...,\n",
              "        [0.4627451 , 0.32941176, 0.19607843],\n",
              "        [0.47058824, 0.32941176, 0.19607843],\n",
              "        [0.42745098, 0.28627451, 0.16470588]],\n",
              "\n",
              "       ...,\n",
              "\n",
              "       [[0.81568627, 0.66666667, 0.37647059],\n",
              "        [0.78823529, 0.6       , 0.13333333],\n",
              "        [0.77647059, 0.63137255, 0.10196078],\n",
              "        ...,\n",
              "        [0.62745098, 0.52156863, 0.2745098 ],\n",
              "        [0.21960784, 0.12156863, 0.02745098],\n",
              "        [0.20784314, 0.13333333, 0.07843137]],\n",
              "\n",
              "       [[0.70588235, 0.54509804, 0.37647059],\n",
              "        [0.67843137, 0.48235294, 0.16470588],\n",
              "        [0.72941176, 0.56470588, 0.11764706],\n",
              "        ...,\n",
              "        [0.72156863, 0.58039216, 0.36862745],\n",
              "        [0.38039216, 0.24313725, 0.13333333],\n",
              "        [0.3254902 , 0.20784314, 0.13333333]],\n",
              "\n",
              "       [[0.69411765, 0.56470588, 0.45490196],\n",
              "        [0.65882353, 0.50588235, 0.36862745],\n",
              "        [0.70196078, 0.55686275, 0.34117647],\n",
              "        ...,\n",
              "        [0.84705882, 0.72156863, 0.54901961],\n",
              "        [0.59215686, 0.4627451 , 0.32941176],\n",
              "        [0.48235294, 0.36078431, 0.28235294]]])"
            ]
          },
          "metadata": {},
          "execution_count": 18
        }
      ]
    },
    {
      "cell_type": "markdown",
      "source": [
        "## What is the min/max for this image after normalisation?"
      ],
      "metadata": {
        "id": "6taonWf5bSxA"
      }
    },
    {
      "cell_type": "code",
      "source": [
        "np.max(X_train[0])"
      ],
      "metadata": {
        "colab": {
          "base_uri": "https://localhost:8080/"
        },
        "id": "zrmuNSnubWKw",
        "outputId": "fd08e8a9-f3b7-4f99-c9e3-43a3b2d4567e"
      },
      "execution_count": null,
      "outputs": [
        {
          "output_type": "execute_result",
          "data": {
            "text/plain": [
              "1.0"
            ]
          },
          "metadata": {},
          "execution_count": 19
        }
      ]
    },
    {
      "cell_type": "code",
      "source": [
        "np.min(X_train[0])"
      ],
      "metadata": {
        "colab": {
          "base_uri": "https://localhost:8080/"
        },
        "id": "fpAI1KgDbsAu",
        "outputId": "ad27ee36-2ba9-41a9-f118-db6c49ab9a5d"
      },
      "execution_count": null,
      "outputs": [
        {
          "output_type": "execute_result",
          "data": {
            "text/plain": [
              "0.0"
            ]
          },
          "metadata": {},
          "execution_count": 20
        }
      ]
    },
    {
      "cell_type": "markdown",
      "source": [
        "## One hot encoding"
      ],
      "metadata": {
        "id": "okg6-3TTbwHq"
      }
    },
    {
      "cell_type": "markdown",
      "source": [
        "## Before"
      ],
      "metadata": {
        "id": "8gjzIFqqb9n3"
      }
    },
    {
      "cell_type": "code",
      "source": [
        "Y_test[0]"
      ],
      "metadata": {
        "colab": {
          "base_uri": "https://localhost:8080/"
        },
        "id": "3Md7jQJGbzNI",
        "outputId": "0f6cefbb-9ccf-4e42-c0bf-b9d3115558c0"
      },
      "execution_count": null,
      "outputs": [
        {
          "output_type": "execute_result",
          "data": {
            "text/plain": [
              "array([3], dtype=uint8)"
            ]
          },
          "metadata": {},
          "execution_count": 21
        }
      ]
    },
    {
      "cell_type": "markdown",
      "source": [
        "## Convert from categorical labels to one-hot encoded vectors"
      ],
      "metadata": {
        "id": "EHcQfgXrcKVl"
      }
    },
    {
      "cell_type": "code",
      "source": [
        "Y_train = np_utils.to_categorical(Y_train, 10)\n",
        "Y_test = np_utils.to_categorical(Y_test, 10)\n",
        "num_classes = 10"
      ],
      "metadata": {
        "id": "xD9tw7TQcL3E"
      },
      "execution_count": null,
      "outputs": []
    },
    {
      "cell_type": "markdown",
      "source": [
        "## After"
      ],
      "metadata": {
        "id": "GC3YkrM3crWq"
      }
    },
    {
      "cell_type": "code",
      "source": [
        "Y_test[0]"
      ],
      "metadata": {
        "colab": {
          "base_uri": "https://localhost:8080/"
        },
        "id": "avcprpr7cuVL",
        "outputId": "1c7ad656-47ac-4822-f029-e11e8e1def21"
      },
      "execution_count": null,
      "outputs": [
        {
          "output_type": "execute_result",
          "data": {
            "text/plain": [
              "array([0., 0., 0., 1., 0., 0., 0., 0., 0., 0.], dtype=float32)"
            ]
          },
          "metadata": {},
          "execution_count": 23
        }
      ]
    },
    {
      "cell_type": "code",
      "source": [
        "X_train, X_val, Y_train, Y_val = train_test_split(X_train, Y_train, test_size=0.3)"
      ],
      "metadata": {
        "id": "pA6lnAIHkN6B"
      },
      "execution_count": null,
      "outputs": []
    },
    {
      "cell_type": "markdown",
      "source": [
        "## Create a convolutional neural network\n",
        "\n",
        "Your network must get at least 70% accuracy on the test set.\n",
        "\n",
        "Your model must have less than 600,000 weights in total.\n",
        "\n",
        "Hint: try first with no dropout, then add dropout - what happens, is it bettter or worse?\n",
        "\n",
        "Hint: try small batch size"
      ],
      "metadata": {
        "id": "fCmLH5qBdAMr"
      }
    },
    {
      "cell_type": "code",
      "source": [
        "def baseline_model():\n",
        "    # create model\n",
        "    model = Sequential()\n",
        "    model.add(Conv2D(filters=84, kernel_size=2, activation='relu', input_shape=(32,32,3))) \n",
        "    model.add(MaxPool2D(pool_size=2))\n",
        "    model.add(Conv2D(filters=110, kernel_size=2, padding='same', activation='relu')) \n",
        "    model.add(MaxPool2D(pool_size=2))\n",
        "    model.add(Conv2D(filters=128, kernel_size=2, padding='same', activation='relu')) \n",
        "    model.add(MaxPool2D(pool_size=3))\n",
        "    model.add(Flatten())\n",
        "    model.add(Dense(612, activation='relu'))\n",
        "    model.add(Dropout(0.5))\n",
        "    model.add(Dense(10, activation='softmax'))\n",
        "    loss = CategoricalCrossentropy()  \n",
        "    # Compile the model\n",
        "    model.compile(loss=loss,\n",
        "             optimizer='adam',\n",
        "             metrics=['accuracy'])\n",
        "    return model"
      ],
      "metadata": {
        "id": "Iph_5Ystc931"
      },
      "execution_count": null,
      "outputs": []
    },
    {
      "cell_type": "code",
      "source": [
        "model = baseline_model()"
      ],
      "metadata": {
        "id": "ScRLHvMBe6fH"
      },
      "execution_count": null,
      "outputs": []
    },
    {
      "cell_type": "markdown",
      "source": [
        "## Determine the number of trainable parameters"
      ],
      "metadata": {
        "id": "q96H2qcYex0f"
      }
    },
    {
      "cell_type": "markdown",
      "source": [
        ""
      ],
      "metadata": {
        "id": "6Xnc82bo7azZ"
      }
    },
    {
      "cell_type": "code",
      "source": [
        "model.summary()"
      ],
      "metadata": {
        "colab": {
          "base_uri": "https://localhost:8080/"
        },
        "id": "9HFDzcZjfYBQ",
        "outputId": "ddceb4ad-2549-4311-a5d9-d0f604e0eabd"
      },
      "execution_count": null,
      "outputs": [
        {
          "output_type": "stream",
          "name": "stdout",
          "text": [
            "Model: \"sequential\"\n",
            "_________________________________________________________________\n",
            " Layer (type)                Output Shape              Param #   \n",
            "=================================================================\n",
            " conv2d (Conv2D)             (None, 31, 31, 84)        1092      \n",
            "                                                                 \n",
            " max_pooling2d (MaxPooling2D  (None, 15, 15, 84)       0         \n",
            " )                                                               \n",
            "                                                                 \n",
            " conv2d_1 (Conv2D)           (None, 15, 15, 110)       37070     \n",
            "                                                                 \n",
            " max_pooling2d_1 (MaxPooling  (None, 7, 7, 110)        0         \n",
            " 2D)                                                             \n",
            "                                                                 \n",
            " conv2d_2 (Conv2D)           (None, 7, 7, 128)         56448     \n",
            "                                                                 \n",
            " max_pooling2d_2 (MaxPooling  (None, 2, 2, 128)        0         \n",
            " 2D)                                                             \n",
            "                                                                 \n",
            " flatten (Flatten)           (None, 512)               0         \n",
            "                                                                 \n",
            " dense (Dense)               (None, 612)               313956    \n",
            "                                                                 \n",
            " dropout (Dropout)           (None, 612)               0         \n",
            "                                                                 \n",
            " dense_1 (Dense)             (None, 10)                6130      \n",
            "                                                                 \n",
            "=================================================================\n",
            "Total params: 414,696\n",
            "Trainable params: 414,696\n",
            "Non-trainable params: 0\n",
            "_________________________________________________________________\n"
          ]
        }
      ]
    },
    {
      "cell_type": "code",
      "source": [
        "checkpoint_path = \"training/cp-{epoch:04d}.ckpt\"\n",
        "\n",
        "cp_callback = ModelCheckpoint(filepath=checkpoint_path, \n",
        "                              save_best_only=True, \n",
        "                              save_weights_only=True, \n",
        "                              verbose=1)"
      ],
      "metadata": {
        "id": "U8GMXAw0mcXd"
      },
      "execution_count": null,
      "outputs": []
    },
    {
      "cell_type": "markdown",
      "source": [
        "## Train the model"
      ],
      "metadata": {
        "id": "WwkCETbW88LF"
      }
    },
    {
      "cell_type": "markdown",
      "source": [
        "## Begin training"
      ],
      "metadata": {
        "id": "_KY-GDfUmeVu"
      }
    },
    {
      "cell_type": "code",
      "source": [
        "history=model.fit(X_train, Y_train, validation_data=(X_val, Y_val), epochs=10, batch_size=100, verbose=1, callbacks=[cp_callback])"
      ],
      "metadata": {
        "colab": {
          "base_uri": "https://localhost:8080/"
        },
        "id": "tSlvm88AmiEh",
        "outputId": "98743bb7-a7b1-4132-fd9e-a02ed911aae6"
      },
      "execution_count": null,
      "outputs": [
        {
          "output_type": "stream",
          "name": "stdout",
          "text": [
            "Epoch 1/10\n",
            "347/350 [============================>.] - ETA: 0s - loss: 1.7463 - accuracy: 0.3529\n",
            "Epoch 00001: val_loss improved from inf to 1.44398, saving model to training/cp-0001.ckpt\n",
            "350/350 [==============================] - 22s 17ms/step - loss: 1.7442 - accuracy: 0.3538 - val_loss: 1.4440 - val_accuracy: 0.4627\n",
            "Epoch 2/10\n",
            "348/350 [============================>.] - ETA: 0s - loss: 1.3422 - accuracy: 0.5147\n",
            "Epoch 00002: val_loss improved from 1.44398 to 1.16388, saving model to training/cp-0002.ckpt\n",
            "350/350 [==============================] - 5s 13ms/step - loss: 1.3421 - accuracy: 0.5147 - val_loss: 1.1639 - val_accuracy: 0.5842\n",
            "Epoch 3/10\n",
            "345/350 [============================>.] - ETA: 0s - loss: 1.1674 - accuracy: 0.5836\n",
            "Epoch 00003: val_loss improved from 1.16388 to 1.11735, saving model to training/cp-0003.ckpt\n",
            "350/350 [==============================] - 4s 11ms/step - loss: 1.1662 - accuracy: 0.5838 - val_loss: 1.1173 - val_accuracy: 0.5957\n",
            "Epoch 4/10\n",
            "347/350 [============================>.] - ETA: 0s - loss: 1.0577 - accuracy: 0.6265\n",
            "Epoch 00004: val_loss improved from 1.11735 to 0.99234, saving model to training/cp-0004.ckpt\n",
            "350/350 [==============================] - 4s 11ms/step - loss: 1.0575 - accuracy: 0.6268 - val_loss: 0.9923 - val_accuracy: 0.6453\n",
            "Epoch 5/10\n",
            "346/350 [============================>.] - ETA: 0s - loss: 0.9640 - accuracy: 0.6617\n",
            "Epoch 00005: val_loss improved from 0.99234 to 0.93662, saving model to training/cp-0005.ckpt\n",
            "350/350 [==============================] - 4s 11ms/step - loss: 0.9639 - accuracy: 0.6618 - val_loss: 0.9366 - val_accuracy: 0.6681\n",
            "Epoch 6/10\n",
            "348/350 [============================>.] - ETA: 0s - loss: 0.8933 - accuracy: 0.6860\n",
            "Epoch 00006: val_loss improved from 0.93662 to 0.87080, saving model to training/cp-0006.ckpt\n",
            "350/350 [==============================] - 4s 11ms/step - loss: 0.8932 - accuracy: 0.6859 - val_loss: 0.8708 - val_accuracy: 0.6945\n",
            "Epoch 7/10\n",
            "350/350 [==============================] - ETA: 0s - loss: 0.8456 - accuracy: 0.7030\n",
            "Epoch 00007: val_loss improved from 0.87080 to 0.85685, saving model to training/cp-0007.ckpt\n",
            "350/350 [==============================] - 4s 11ms/step - loss: 0.8456 - accuracy: 0.7030 - val_loss: 0.8568 - val_accuracy: 0.6975\n",
            "Epoch 8/10\n",
            "349/350 [============================>.] - ETA: 0s - loss: 0.7804 - accuracy: 0.7277\n",
            "Epoch 00008: val_loss improved from 0.85685 to 0.82064, saving model to training/cp-0008.ckpt\n",
            "350/350 [==============================] - 4s 11ms/step - loss: 0.7806 - accuracy: 0.7277 - val_loss: 0.8206 - val_accuracy: 0.7127\n",
            "Epoch 9/10\n",
            "345/350 [============================>.] - ETA: 0s - loss: 0.7468 - accuracy: 0.7381\n",
            "Epoch 00009: val_loss did not improve from 0.82064\n",
            "350/350 [==============================] - 4s 11ms/step - loss: 0.7457 - accuracy: 0.7386 - val_loss: 0.8490 - val_accuracy: 0.7061\n",
            "Epoch 10/10\n",
            "350/350 [==============================] - ETA: 0s - loss: 0.7003 - accuracy: 0.7531\n",
            "Epoch 00010: val_loss improved from 0.82064 to 0.80653, saving model to training/cp-0010.ckpt\n",
            "350/350 [==============================] - 4s 11ms/step - loss: 0.7003 - accuracy: 0.7531 - val_loss: 0.8065 - val_accuracy: 0.7239\n"
          ]
        }
      ]
    },
    {
      "cell_type": "code",
      "source": [
        "correct_values = np.argmax(Y_test,axis=1)"
      ],
      "metadata": {
        "id": "wdyxNiwTo4B3"
      },
      "execution_count": null,
      "outputs": []
    },
    {
      "cell_type": "markdown",
      "source": [
        "## Plot the performance\n",
        "\n",
        "Plot the training and validation accuracy in a single plot"
      ],
      "metadata": {
        "id": "8YXoETkN64hM"
      }
    },
    {
      "cell_type": "code",
      "source": [
        "def plot_hist(h, xsize=6, ysize=10):\n",
        "\n",
        "    fig_size = plt.rcParams[\"figure.figsize\"]\n",
        "    plt.rcParams[\"figure.figsize\"] = [xsize, ysize]\n",
        "    fig, axes = plt.subplots(nrows=1, ncols=1, sharex=True)\n",
        "    \n",
        "    # summarize history for Accuracy\n",
        "    plt.subplot(211)\n",
        "    plt.plot(h['accuracy'])\n",
        "    plt.plot(h['val_accuracy'])\n",
        "    plt.title('Training Performance')\n",
        "    plt.ylabel('Accuracy')\n",
        "    plt.xlabel('Epochs')\n",
        "    plt.legend(['Train', 'Validation'], loc='best')\n",
        "    \n",
        "    plt.draw()\n",
        "    plt.show()\n",
        "\n",
        "    return"
      ],
      "metadata": {
        "id": "HGArSp1a67LI"
      },
      "execution_count": null,
      "outputs": []
    },
    {
      "cell_type": "code",
      "source": [
        "plot_hist(history.history, xsize=8, ysize=12)"
      ],
      "metadata": {
        "colab": {
          "base_uri": "https://localhost:8080/",
          "height": 374
        },
        "id": "8sG1ltS07BcO",
        "outputId": "b8e02c47-b25e-4b19-e417-b45e28f1cb99"
      },
      "execution_count": null,
      "outputs": [
        {
          "output_type": "display_data",
          "data": {
            "image/png": "[encoded data removed]",
            "text/plain": [
              "<Figure size 576x864 with 1 Axes>"
            ]
          },
          "metadata": {
            "needs_background": "light"
          }
        }
      ]
    },
    {
      "cell_type": "markdown",
      "source": [
        "## Compute the accuracy\n",
        "\n",
        "Get at least 65% testing accuracy"
      ],
      "metadata": {
        "id": "L1GJVepQ6pyS"
      }
    },
    {
      "cell_type": "code",
      "source": [
        "# New random initialisation\n",
        "model = baseline_model()\n",
        "predictions = model.predict(X_test)\n",
        "predictions = np.argmax(predictions, axis=-1)\n",
        "accuracy_score(predictions,correct_values)*100"
      ],
      "metadata": {
        "id": "S9c29GQjo8pc",
        "colab": {
          "base_uri": "https://localhost:8080/"
        },
        "outputId": "fbd162bf-dc34-40d5-bbcd-ebf6cf3b61a0"
      },
      "execution_count": null,
      "outputs": [
        {
          "output_type": "execute_result",
          "data": {
            "text/plain": [
              "12.23"
            ]
          },
          "metadata": {},
          "execution_count": 33
        }
      ]
    },
    {
      "cell_type": "code",
      "source": [
        "# Load a trained model from one of the checkpoints\n",
        "model = baseline_model()\n",
        "model.load_weights(\"training/cp-0010.ckpt\")\n",
        "predictions = model.predict(X_test)\n",
        "predictions = np.argmax(predictions, axis=-1)\n",
        "accuracy_score(predictions,correct_values)*100"
      ],
      "metadata": {
        "id": "wAd7msWFpFMa",
        "colab": {
          "base_uri": "https://localhost:8080/"
        },
        "outputId": "0d7825c7-9c09-44e1-be32-2161e3d1a6ff"
      },
      "execution_count": null,
      "outputs": [
        {
          "output_type": "execute_result",
          "data": {
            "text/plain": [
              "71.73"
            ]
          },
          "metadata": {},
          "execution_count": 34
        }
      ]
    },
    {
      "cell_type": "markdown",
      "source": [
        "## Predict on the test data"
      ],
      "metadata": {
        "id": "t0uQE4416Wko"
      }
    },
    {
      "cell_type": "markdown",
      "source": [
        "## Predict on one example"
      ],
      "metadata": {
        "id": "0lZZcyrFpeKg"
      }
    },
    {
      "cell_type": "code",
      "source": [
        "model.predict(np.expand_dims(X_test[0], axis=0))"
      ],
      "metadata": {
        "id": "vIbNR0qtpfTL",
        "colab": {
          "base_uri": "https://localhost:8080/"
        },
        "outputId": "a78de4f5-bb78-45fb-9d46-c2252b1904fc"
      },
      "execution_count": null,
      "outputs": [
        {
          "output_type": "execute_result",
          "data": {
            "text/plain": [
              "array([[0.00264642, 0.00127413, 0.01097703, 0.52805316, 0.00548212,\n",
              "        0.09224768, 0.34305683, 0.00094376, 0.01421464, 0.00110425]],\n",
              "      dtype=float32)"
            ]
          },
          "metadata": {},
          "execution_count": 35
        }
      ]
    },
    {
      "cell_type": "markdown",
      "source": [
        "## Predicting, but obtaining the probabilities"
      ],
      "metadata": {
        "id": "kC1Q5j_5pj5l"
      }
    },
    {
      "cell_type": "code",
      "source": [
        "prediction = model.predict(np.expand_dims(X_test[0], axis=0))\n",
        "np.argmax(prediction, axis=-1)"
      ],
      "metadata": {
        "id": "nOinHfKcpot0",
        "colab": {
          "base_uri": "https://localhost:8080/"
        },
        "outputId": "916b27de-23e8-41a6-80ef-76f8d09dd2a4"
      },
      "execution_count": null,
      "outputs": [
        {
          "output_type": "execute_result",
          "data": {
            "text/plain": [
              "array([3])"
            ]
          },
          "metadata": {},
          "execution_count": 36
        }
      ]
    },
    {
      "cell_type": "markdown",
      "source": [
        "## Predict on all the test data"
      ],
      "metadata": {
        "id": "nbGBqLBCpu2U"
      }
    },
    {
      "cell_type": "code",
      "source": [
        "predictions = model.predict(X_test)\n",
        "predictions = np.argmax(predictions, axis=-1)"
      ],
      "metadata": {
        "id": "leYddfBHpvkL"
      },
      "execution_count": null,
      "outputs": []
    },
    {
      "cell_type": "code",
      "source": [
        "predictions[0:10]"
      ],
      "metadata": {
        "id": "QARd5aXBqCly",
        "colab": {
          "base_uri": "https://localhost:8080/"
        },
        "outputId": "ae8b7eec-06d2-4556-d9c7-a6cf95236276"
      },
      "execution_count": null,
      "outputs": [
        {
          "output_type": "execute_result",
          "data": {
            "text/plain": [
              "array([3, 1, 8, 0, 6, 6, 9, 2, 3, 9])"
            ]
          },
          "metadata": {},
          "execution_count": 38
        }
      ]
    },
    {
      "cell_type": "markdown",
      "source": [
        "## Obtain the confusion matrix"
      ],
      "metadata": {
        "id": "HwcfrH5h58--"
      }
    },
    {
      "cell_type": "code",
      "source": [
        "confusion_matrix(predictions,correct_values)"
      ],
      "metadata": {
        "id": "3jWsrcHwqCyv",
        "colab": {
          "base_uri": "https://localhost:8080/"
        },
        "outputId": "1b62a809-a8dd-42bc-bbb4-9cdccbd3ee9e"
      },
      "execution_count": null,
      "outputs": [
        {
          "output_type": "execute_result",
          "data": {
            "text/plain": [
              "array([[759,  12,  67,  20,  23,  14,   7,  11,  45,  26],\n",
              "       [ 18, 807,   6,  16,   7,   7,   5,   7,  38,  48],\n",
              "       [ 35,   3, 649,  99,  88,  89,  56,  45,   8,   8],\n",
              "       [ 13,   1,  51, 521,  40, 239,  23,  51,   9,   4],\n",
              "       [ 13,   1,  54,  61, 656,  54,  15,  75,   6,   2],\n",
              "       [  1,   3,  36,  69,  10, 478,   7,  23,   1,   3],\n",
              "       [  7,   8,  73, 129,  81,  40, 860,  18,   5,   5],\n",
              "       [  9,   1,  21,  24,  68,  44,   6, 717,   3,   5],\n",
              "       [ 83,  30,  21,  24,  14,  11,   8,   4, 852,  25],\n",
              "       [ 62, 134,  22,  37,  13,  24,  13,  49,  33, 874]])"
            ]
          },
          "metadata": {},
          "execution_count": 39
        }
      ]
    },
    {
      "cell_type": "code",
      "source": [
        "prediction_classes = np.argmax(prediction, axis=1)"
      ],
      "metadata": {
        "id": "aEby31HPqXmp"
      },
      "execution_count": null,
      "outputs": []
    },
    {
      "cell_type": "code",
      "source": [
        ""
      ],
      "metadata": {
        "id": "EUVNtQEwqssd"
      },
      "execution_count": null,
      "outputs": []
    }
  ]
}